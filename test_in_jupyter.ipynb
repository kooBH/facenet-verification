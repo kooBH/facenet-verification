{
 "cells": [
  {
   "cell_type": "markdown",
   "metadata": {},
   "source": [
    "# Append with Column Name"
   ]
  },
  {
   "cell_type": "code",
   "execution_count": 1,
   "metadata": {},
   "outputs": [
    {
     "name": "stderr",
     "output_type": "stream",
     "text": [
      "/home/kbh/workspace/facenet_verification/fv/lib/python3.5/site-packages/pandas/core/frame.py:6692: FutureWarning: Sorting because non-concatenation axis is not aligned. A future version\n",
      "of pandas will change to not sort by default.\n",
      "\n",
      "To accept the future behavior, pass 'sort=False'.\n",
      "\n",
      "To retain the current behavior and silence the warning, pass 'sort=True'.\n",
      "\n",
      "  sort=sort)\n"
     ]
    },
    {
     "data": {
      "text/html": [
       "<div>\n",
       "<style scoped>\n",
       "    .dataframe tbody tr th:only-of-type {\n",
       "        vertical-align: middle;\n",
       "    }\n",
       "\n",
       "    .dataframe tbody tr th {\n",
       "        vertical-align: top;\n",
       "    }\n",
       "\n",
       "    .dataframe thead th {\n",
       "        text-align: right;\n",
       "    }\n",
       "</style>\n",
       "<table border=\"1\" class=\"dataframe\">\n",
       "  <thead>\n",
       "    <tr style=\"text-align: right;\">\n",
       "      <th></th>\n",
       "      <th>file</th>\n",
       "      <th>label</th>\n",
       "    </tr>\n",
       "  </thead>\n",
       "  <tbody>\n",
       "    <tr>\n",
       "      <th>0</th>\n",
       "      <td>/home/nas/user/kbh/FaceVerification/same/kbh10...</td>\n",
       "      <td>1</td>\n",
       "    </tr>\n",
       "    <tr>\n",
       "      <th>1</th>\n",
       "      <td>/home/nas/user/kbh/FaceVerification/same/kbh11...</td>\n",
       "      <td>1</td>\n",
       "    </tr>\n",
       "    <tr>\n",
       "      <th>2</th>\n",
       "      <td>/home/nas/user/kbh/FaceVerification/same/kbh13...</td>\n",
       "      <td>1</td>\n",
       "    </tr>\n",
       "    <tr>\n",
       "      <th>3</th>\n",
       "      <td>/home/nas/user/kbh/FaceVerification/same/kbh14...</td>\n",
       "      <td>1</td>\n",
       "    </tr>\n",
       "    <tr>\n",
       "      <th>4</th>\n",
       "      <td>/home/nas/user/kbh/FaceVerification/same/kbh17...</td>\n",
       "      <td>1</td>\n",
       "    </tr>\n",
       "  </tbody>\n",
       "</table>\n",
       "</div>"
      ],
      "text/plain": [
       "                                                file label\n",
       "0  /home/nas/user/kbh/FaceVerification/same/kbh10...     1\n",
       "1  /home/nas/user/kbh/FaceVerification/same/kbh11...     1\n",
       "2  /home/nas/user/kbh/FaceVerification/same/kbh13...     1\n",
       "3  /home/nas/user/kbh/FaceVerification/same/kbh14...     1\n",
       "4  /home/nas/user/kbh/FaceVerification/same/kbh17...     1"
      ]
     },
     "metadata": {},
     "output_type": "display_data"
    },
    {
     "data": {
      "text/html": [
       "<div>\n",
       "<style scoped>\n",
       "    .dataframe tbody tr th:only-of-type {\n",
       "        vertical-align: middle;\n",
       "    }\n",
       "\n",
       "    .dataframe tbody tr th {\n",
       "        vertical-align: top;\n",
       "    }\n",
       "\n",
       "    .dataframe thead th {\n",
       "        text-align: right;\n",
       "    }\n",
       "</style>\n",
       "<table border=\"1\" class=\"dataframe\">\n",
       "  <thead>\n",
       "    <tr style=\"text-align: right;\">\n",
       "      <th></th>\n",
       "      <th>file</th>\n",
       "      <th>label</th>\n",
       "    </tr>\n",
       "  </thead>\n",
       "  <tbody>\n",
       "    <tr>\n",
       "      <th>13675</th>\n",
       "      <td>/home/nas/user/kbh/FaceVerification/diff/kbh94...</td>\n",
       "      <td>0</td>\n",
       "    </tr>\n",
       "    <tr>\n",
       "      <th>13676</th>\n",
       "      <td>/home/nas/user/kbh/FaceVerification/diff/kbh9_...</td>\n",
       "      <td>0</td>\n",
       "    </tr>\n",
       "    <tr>\n",
       "      <th>13677</th>\n",
       "      <td>/home/nas/user/kbh/FaceVerification/diff/kbh91...</td>\n",
       "      <td>0</td>\n",
       "    </tr>\n",
       "    <tr>\n",
       "      <th>13678</th>\n",
       "      <td>/home/nas/user/kbh/FaceVerification/diff/kbh9_...</td>\n",
       "      <td>0</td>\n",
       "    </tr>\n",
       "    <tr>\n",
       "      <th>13679</th>\n",
       "      <td>/home/nas/user/kbh/FaceVerification/diff/kbh91...</td>\n",
       "      <td>0</td>\n",
       "    </tr>\n",
       "  </tbody>\n",
       "</table>\n",
       "</div>"
      ],
      "text/plain": [
       "                                                    file label\n",
       "13675  /home/nas/user/kbh/FaceVerification/diff/kbh94...     0\n",
       "13676  /home/nas/user/kbh/FaceVerification/diff/kbh9_...     0\n",
       "13677  /home/nas/user/kbh/FaceVerification/diff/kbh91...     0\n",
       "13678  /home/nas/user/kbh/FaceVerification/diff/kbh9_...     0\n",
       "13679  /home/nas/user/kbh/FaceVerification/diff/kbh91...     0"
      ]
     },
     "metadata": {},
     "output_type": "display_data"
    },
    {
     "name": "stdout",
     "output_type": "stream",
     "text": [
      "/home/nas/user/kbh/FaceVerification/same/kbh10_kbh11.npy\n",
      "13680\n"
     ]
    }
   ],
   "source": [
    "import os\n",
    "import pandas as pd\n",
    "\n",
    "\n",
    "dir_root= \"/home/nas/user/kbh/FaceVerification\";\n",
    "dir_same = \"/home/nas/user/kbh/FaceVerification/same\";\n",
    "dir_diff = \"/home/nas/user/kbh/FaceVerification/diff\";\n",
    "\n",
    "l = 0\n",
    "l +=len(os.listdir(dir_root+'/same'))\n",
    "l +=len(os.listdir(dir_root+'/diff'))\n",
    "\n",
    "data =pd.DataFrame(columns={'file','label'})\n",
    "\n",
    "data = data.append(pd.DataFrame({'file':[ dir_root+'/same/' + x for x in os.listdir(dir_same)],'label':1}),ignore_index=True)\n",
    "data = data.append(pd.DataFrame({'file':[ dir_root+'/diff/' + x for x in os.listdir(dir_diff)],'label':0}),ignore_index=True)\n",
    "\n",
    "display(data.head())\n",
    "display(data.tail())\n",
    "\n",
    "print(data.iloc[0]['file'])\n",
    "print(len(data))"
   ]
  },
  {
   "cell_type": "markdown",
   "metadata": {},
   "source": [
    "# Read npy data"
   ]
  },
  {
   "cell_type": "code",
   "execution_count": 3,
   "metadata": {},
   "outputs": [
    {
     "name": "stdout",
     "output_type": "stream",
     "text": [
      "[ 0.00072517 -0.00631213  0.0286344   0.01322088 -0.02499864  0.02617048\n",
      "  0.01385147 -0.03385998 -0.02366928  0.035698    0.01574101  0.00959557\n",
      " -0.04491548  0.03981117 -0.00753962 -0.01155773 -0.0085953  -0.00650792\n",
      " -0.00984183  0.00949219 -0.01007888 -0.02437648  0.02798963 -0.00584594\n",
      " -0.02405627 -0.00229357 -0.00630163  0.01997862 -0.02283063  0.00528472\n",
      "  0.01242629  0.00795055  0.01783899  0.00572782 -0.07352088 -0.01750111\n",
      "  0.0167329   0.00995452  0.02265501 -0.0221207  -0.01906023  0.01390658\n",
      "  0.00554663  0.05210541  0.04557721 -0.01146079  0.02218351  0.02764705\n",
      "  0.01274038 -0.00161656 -0.01057284  0.01149778  0.0188303   0.0222961\n",
      "  0.02322228 -0.00389583 -0.01617895  0.03698597  0.00375309 -0.00605607\n",
      " -0.01501992 -0.01963115 -0.00267004 -0.02497401  0.03326101  0.01528397\n",
      " -0.00234157 -0.01010761 -0.00551314  0.03265359  0.00219382  0.02324248\n",
      "  0.04086056  0.02377672 -0.0496764   0.0331699   0.03185865 -0.02444219\n",
      " -0.01871242  0.03380162 -0.00295171  0.01870639  0.01634103  0.02861216\n",
      "  0.02495402  0.02649501 -0.02450401 -0.02482785 -0.02019172 -0.01542718\n",
      " -0.00459254 -0.01739544 -0.00529266  0.01041389 -0.01404714  0.00935593\n",
      " -0.00112936  0.04755733  0.07035905  0.01295914  0.01414559  0.00455861\n",
      " -0.03105798 -0.03012788  0.02147377  0.0288854  -0.00500532  0.00662018\n",
      " -0.01515468 -0.04380558  0.01681426 -0.00233875 -0.00648712 -0.02997788\n",
      " -0.0036007   0.05090544  0.01872033 -0.060704    0.03330614 -0.01448174\n",
      "  0.00523407  0.0086461   0.03836595  0.0224651  -0.00190629 -0.04186076\n",
      "  0.00710685 -0.00218602]\n"
     ]
    }
   ],
   "source": [
    "import numpy as np\n",
    "path = data.iloc[0]['file']\n",
    "x = np.load(path)\n",
    "\n",
    "print(x)"
   ]
  },
  {
   "cell_type": "markdown",
   "metadata": {},
   "source": [
    "# Custom Dataset test"
   ]
  },
  {
   "cell_type": "code",
   "execution_count": 1,
   "metadata": {},
   "outputs": [
    {
     "name": "stdout",
     "output_type": "stream",
     "text": [
      "FacenetGapDataset::__init__\n",
      "<class 'torch.Tensor'>\n",
      "tensor([ 0.0113,  0.0087,  0.0427, -0.0171,  0.0295, -0.0189, -0.0430, -0.0154,\n",
      "         0.0253,  0.0047, -0.0001, -0.0052, -0.0282,  0.0128, -0.0087, -0.0094,\n",
      "        -0.0386, -0.0056,  0.0147, -0.0168,  0.0360,  0.0005,  0.0010, -0.0431,\n",
      "        -0.0339,  0.0039,  0.0073, -0.0262, -0.0174, -0.0525,  0.0106, -0.0017,\n",
      "         0.0312, -0.0073,  0.0194, -0.0284, -0.0107, -0.0049, -0.0297, -0.0336,\n",
      "        -0.0262, -0.0221, -0.0255,  0.0254, -0.0128, -0.0144, -0.0170, -0.0050,\n",
      "        -0.0264, -0.0108,  0.0028, -0.0090, -0.0123, -0.0066,  0.0269,  0.0192,\n",
      "         0.0338, -0.0208, -0.0057,  0.0023, -0.0053, -0.0212,  0.0099,  0.0486,\n",
      "        -0.0092, -0.0101, -0.0191, -0.0108, -0.0013, -0.0248, -0.0241, -0.0259,\n",
      "         0.0389, -0.0044,  0.0079,  0.0039, -0.0097, -0.0178,  0.0315,  0.0306,\n",
      "         0.0249, -0.0118, -0.0058,  0.0213, -0.0106,  0.0196, -0.0060,  0.0306,\n",
      "         0.0102,  0.0245, -0.0331,  0.0192,  0.0284,  0.0247, -0.0515,  0.0266,\n",
      "        -0.0331,  0.0550,  0.0205, -0.0498,  0.0484, -0.0017, -0.0054,  0.0253,\n",
      "         0.0292, -0.0146,  0.0024, -0.0498, -0.0134, -0.0262, -0.0060,  0.0198,\n",
      "        -0.0155,  0.0213,  0.0010,  0.0198,  0.0112,  0.0041,  0.0176,  0.0227,\n",
      "        -0.0013, -0.0526, -0.0328,  0.0414,  0.0036,  0.0028,  0.0485, -0.0404])\n"
     ]
    }
   ],
   "source": [
    "import FacenetGapDataset as dataset\n",
    "import torch\n",
    "\n",
    "dir_root = '/home/nas/user/kbh/FaceVerification'\n",
    "\n",
    "data = dataset.FacenetGapDataset(dir_root)\n",
    "\n",
    "x,y = data.__getitem__(1)\n",
    "print(type(x))\n",
    "print(x)\n"
   ]
  },
  {
   "cell_type": "markdown",
   "metadata": {},
   "source": [
    "# Dataloader test"
   ]
  },
  {
   "cell_type": "code",
   "execution_count": 2,
   "metadata": {},
   "outputs": [
    {
     "name": "stdout",
     "output_type": "stream",
     "text": [
      "FacenetGapDataset::__init__\n"
     ]
    }
   ],
   "source": [
    "import FacenetGapDataset as dataset\n",
    "import torch\n",
    "from torch.utils.data import DataLoader\n",
    "\n",
    "dir_root = '/home/nas/user/kbh/FaceVerification'\n",
    "data = dataset.FacenetGapDataset(dir_root)\n",
    "\n",
    "dataloader = DataLoader(data, batch_size=2, shuffle=True)"
   ]
  },
  {
   "cell_type": "markdown",
   "metadata": {},
   "source": [
    "# Predefined Dataset analysis"
   ]
  },
  {
   "cell_type": "code",
   "execution_count": 3,
   "metadata": {},
   "outputs": [
    {
     "name": "stdout",
     "output_type": "stream",
     "text": [
      "Files already downloaded and verified\n"
     ]
    },
    {
     "data": {
      "text/plain": [
       "9"
      ]
     },
     "metadata": {},
     "output_type": "display_data"
    },
    {
     "name": "stdout",
     "output_type": "stream",
     "text": [
      "<class 'tuple'>\n",
      "<class 'torch.Tensor'>\n",
      "<class 'int'>\n"
     ]
    }
   ],
   "source": [
    "import torchvision\n",
    "\n",
    "transform = torchvision.transforms.Compose(\n",
    "    [torchvision.transforms.ToTensor(),\n",
    "     torchvision.transforms.Normalize((0.5, 0.5, 0.5), (0.5, 0.5, 0.5))])\n",
    "\n",
    "trainset = torchvision.datasets.CIFAR10(root='./data', train=True,\n",
    "                                        download=True, transform=transform)\n",
    "\n",
    "x = trainset.__getitem__(1)\n",
    "display(x[1])\n",
    "print(type(x))\n",
    "print(type(x[0]))\n",
    "print(type(x[1]))"
   ]
  },
  {
   "cell_type": "markdown",
   "metadata": {},
   "source": [
    "# Test Loader"
   ]
  },
  {
   "cell_type": "code",
   "execution_count": 5,
   "metadata": {},
   "outputs": [
    {
     "name": "stdout",
     "output_type": "stream",
     "text": [
      "FacenetGapDataset::__init__\n",
      "13680\n",
      "idx\n",
      "11166\n",
      "idx\n",
      "7758\n",
      "idx\n",
      "12491\n",
      "idx\n",
      "673\n",
      "idx\n",
      "11658\n",
      "idx\n",
      "8290\n",
      "idx\n",
      "4337\n",
      "idx\n",
      "8743\n",
      "idx\n",
      "11757\n",
      "idx\n",
      "10996\n",
      "idx\n",
      "10457\n",
      "idx\n",
      "4389\n",
      "idx\n",
      "12187\n",
      "idx\n",
      "1903\n",
      "idx\n",
      "4205\n",
      "idx\n",
      "6987\n",
      "tensor([[ 0.0189, -0.0314, -0.0446,  ...,  0.0517, -0.0233, -0.1034],\n",
      "        [-0.0259, -0.0557,  0.0275,  ...,  0.0694, -0.0124,  0.0157],\n",
      "        [-0.0048, -0.0223, -0.0152,  ...,  0.0614, -0.0151,  0.0195],\n",
      "        ...,\n",
      "        [-0.0303,  0.0180,  0.0108,  ..., -0.0129,  0.0139, -0.0098],\n",
      "        [ 0.0103,  0.0153, -0.0118,  ..., -0.0076, -0.0227,  0.0120],\n",
      "        [ 0.0028, -0.0462, -0.0174,  ...,  0.1050,  0.0094, -0.0291]])\n",
      "tensor([0., 0., 0., 1., 0., 0., 1., 0., 0., 0., 0., 1., 0., 1., 1., 0.])\n"
     ]
    }
   ],
   "source": [
    "import FacenetGapDataset as dataset\n",
    "import torch\n",
    "from torch.utils.data import DataLoader\n",
    "\n",
    "dir_root = '/home/nas/user/kbh/FaceVerification'\n",
    "data = dataset.FacenetGapDataset(dir_root)\n",
    "print(len(data))\n",
    "dataloader = DataLoader(data, batch_size=16, shuffle=True)\n",
    "\n",
    "dataiter = iter(dataloader)\n",
    "values, label = dataiter.next()\n",
    "print(values)\n",
    "print(label)\n"
   ]
  },
  {
   "cell_type": "code",
   "execution_count": null,
   "metadata": {},
   "outputs": [],
   "source": []
  }
 ],
 "metadata": {
  "kernelspec": {
   "display_name": "Python 3",
   "language": "python",
   "name": "python3"
  },
  "language_info": {
   "codemirror_mode": {
    "name": "ipython",
    "version": 3
   },
   "file_extension": ".py",
   "mimetype": "text/x-python",
   "name": "python",
   "nbconvert_exporter": "python",
   "pygments_lexer": "ipython3",
   "version": "3.5.2"
  }
 },
 "nbformat": 4,
 "nbformat_minor": 4
}
